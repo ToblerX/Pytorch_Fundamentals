{
 "cells": [
  {
   "metadata": {
    "ExecuteTime": {
     "end_time": "2025-03-31T18:23:22.939533Z",
     "start_time": "2025-03-31T18:23:21.393093Z"
    }
   },
   "cell_type": "code",
   "source": [
    "import torch\n",
    "\n",
    "print(torch.__version__)\n",
    "#importing pytorch and checking whether it is correctly connected. One should also check out the cuda related article by pytorch, so that cuda was installed correctly"
   ],
   "id": "fbc121e30a2defb3",
   "outputs": [
    {
     "name": "stdout",
     "output_type": "stream",
     "text": [
      "2.6.0+cu126\n"
     ]
    }
   ],
   "execution_count": 2
  },
  {
   "metadata": {
    "ExecuteTime": {
     "end_time": "2025-03-31T18:23:22.955309Z",
     "start_time": "2025-03-31T18:23:22.947814Z"
    }
   },
   "cell_type": "code",
   "source": [
    "scalar = torch.tensor(7)\n",
    "scalar\n",
    "#scalar is a 0d tensor"
   ],
   "id": "8e9e6f457ff01f59",
   "outputs": [
    {
     "data": {
      "text/plain": [
       "tensor(7)"
      ]
     },
     "execution_count": 3,
     "metadata": {},
     "output_type": "execute_result"
    }
   ],
   "execution_count": 3
  },
  {
   "metadata": {
    "ExecuteTime": {
     "end_time": "2025-03-31T18:23:22.964059Z",
     "start_time": "2025-03-31T18:23:22.955309Z"
    }
   },
   "cell_type": "code",
   "source": [
    "scalar.ndim\n",
    "#checking number of dimensions. Predictably, 0 for scalar"
   ],
   "id": "8676eb4d7fcea637",
   "outputs": [
    {
     "data": {
      "text/plain": [
       "0"
      ]
     },
     "execution_count": 4,
     "metadata": {},
     "output_type": "execute_result"
    }
   ],
   "execution_count": 4
  },
  {
   "metadata": {
    "ExecuteTime": {
     "end_time": "2025-03-31T18:23:22.993856Z",
     "start_time": "2025-03-31T18:23:22.981507Z"
    }
   },
   "cell_type": "code",
   "source": [
    "scalar.item()\n",
    "#returns the number stored in scalar"
   ],
   "id": "6980f4a568dc7e78",
   "outputs": [
    {
     "data": {
      "text/plain": [
       "7"
      ]
     },
     "execution_count": 5,
     "metadata": {},
     "output_type": "execute_result"
    }
   ],
   "execution_count": 5
  },
  {
   "metadata": {
    "ExecuteTime": {
     "end_time": "2025-03-31T18:23:23.019984Z",
     "start_time": "2025-03-31T18:23:23.015360Z"
    }
   },
   "cell_type": "code",
   "source": [
    "vector = torch.tensor([7, 7])\n",
    "vector\n",
    "#creating a vector (1d tensor)"
   ],
   "id": "7a41b3359f6ffd0a",
   "outputs": [
    {
     "data": {
      "text/plain": [
       "tensor([7, 7])"
      ]
     },
     "execution_count": 6,
     "metadata": {},
     "output_type": "execute_result"
    }
   ],
   "execution_count": 6
  },
  {
   "metadata": {
    "ExecuteTime": {
     "end_time": "2025-03-31T18:23:23.034188Z",
     "start_time": "2025-03-31T18:23:23.024245Z"
    }
   },
   "cell_type": "code",
   "source": [
    "vector.shape\n",
    "#returns vector's shape"
   ],
   "id": "2648e999318b177c",
   "outputs": [
    {
     "data": {
      "text/plain": [
       "torch.Size([2])"
      ]
     },
     "execution_count": 7,
     "metadata": {},
     "output_type": "execute_result"
    }
   ],
   "execution_count": 7
  },
  {
   "metadata": {
    "ExecuteTime": {
     "end_time": "2025-03-31T18:23:23.048692Z",
     "start_time": "2025-03-31T18:23:23.038593Z"
    }
   },
   "cell_type": "code",
   "source": [
    "MATRIX = torch.tensor([[7, 8],\n",
    "                       [9, 10]])\n",
    "MATRIX\n",
    "#creating a matrix (2d tensor)"
   ],
   "id": "c1e84524321603ec",
   "outputs": [
    {
     "data": {
      "text/plain": [
       "tensor([[ 7,  8],\n",
       "        [ 9, 10]])"
      ]
     },
     "execution_count": 8,
     "metadata": {},
     "output_type": "execute_result"
    }
   ],
   "execution_count": 8
  },
  {
   "metadata": {
    "ExecuteTime": {
     "end_time": "2025-03-31T18:23:23.071758Z",
     "start_time": "2025-03-31T18:23:23.063210Z"
    }
   },
   "cell_type": "code",
   "source": [
    "MATRIX.shape\n",
    "#returns matrix's shape"
   ],
   "id": "3c5bc0871a1e1b61",
   "outputs": [
    {
     "data": {
      "text/plain": [
       "torch.Size([2, 2])"
      ]
     },
     "execution_count": 9,
     "metadata": {},
     "output_type": "execute_result"
    }
   ],
   "execution_count": 9
  },
  {
   "metadata": {
    "ExecuteTime": {
     "end_time": "2025-03-31T18:23:23.355243Z",
     "start_time": "2025-03-31T18:23:23.350457Z"
    }
   },
   "cell_type": "code",
   "source": [
    "TENSOR = torch.tensor([[1,2,3],\n",
    "                       [3,6,9],\n",
    "                       [2,4,5]])\n",
    "TENSOR\n",
    "#creating tensor"
   ],
   "id": "dac1125428b91268",
   "outputs": [
    {
     "data": {
      "text/plain": [
       "tensor([[1, 2, 3],\n",
       "        [3, 6, 9],\n",
       "        [2, 4, 5]])"
      ]
     },
     "execution_count": 10,
     "metadata": {},
     "output_type": "execute_result"
    }
   ],
   "execution_count": 10
  },
  {
   "metadata": {
    "ExecuteTime": {
     "end_time": "2025-03-31T18:23:23.557432Z",
     "start_time": "2025-03-31T18:23:23.553834Z"
    }
   },
   "cell_type": "code",
   "source": [
    "TENSOR.ndim\n",
    "#checking number of dimensions. It is easy countable by brackets on one side of the argument"
   ],
   "id": "f90207878ed6aea9",
   "outputs": [
    {
     "data": {
      "text/plain": [
       "2"
      ]
     },
     "execution_count": 11,
     "metadata": {},
     "output_type": "execute_result"
    }
   ],
   "execution_count": 11
  },
  {
   "metadata": {
    "ExecuteTime": {
     "end_time": "2025-03-31T18:23:23.631440Z",
     "start_time": "2025-03-31T18:23:23.627327Z"
    }
   },
   "cell_type": "code",
   "source": [
    "TENSOR.shape\n",
    "#checking tensor's shape"
   ],
   "id": "4256389b65e368da",
   "outputs": [
    {
     "data": {
      "text/plain": [
       "torch.Size([3, 3])"
      ]
     },
     "execution_count": 12,
     "metadata": {},
     "output_type": "execute_result"
    }
   ],
   "execution_count": 12
  },
  {
   "metadata": {
    "ExecuteTime": {
     "end_time": "2025-03-31T18:23:23.716910Z",
     "start_time": "2025-03-31T18:23:23.709625Z"
    }
   },
   "cell_type": "code",
   "source": [
    "random_tensor = torch.randn(size=(3, 4))\n",
    "random_tensor, random_tensor.dtype\n",
    "#creating a random tensor. Basically ML starts from random tensor and finds the best values."
   ],
   "id": "933816e11dd4fba4",
   "outputs": [
    {
     "data": {
      "text/plain": [
       "(tensor([[-0.8756, -2.3444, -1.3240,  0.5025],\n",
       "         [-0.2208, -0.1288, -1.1179,  0.6995],\n",
       "         [-1.0544,  1.5032,  0.5471,  0.9122]]),\n",
       " torch.float32)"
      ]
     },
     "execution_count": 13,
     "metadata": {},
     "output_type": "execute_result"
    }
   ],
   "execution_count": 13
  },
  {
   "metadata": {
    "ExecuteTime": {
     "end_time": "2025-03-31T18:23:23.759099Z",
     "start_time": "2025-03-31T18:23:23.748164Z"
    }
   },
   "cell_type": "code",
   "source": [
    "random_image_tensor = torch.randn(size=(224, 224, 3))\n",
    "random_image_tensor.shape, random_image_tensor.dtype\n",
    "#example of tensor that can represent an image. Size of image 224x224, 3 color channels"
   ],
   "id": "c164c0c5d8bc45a3",
   "outputs": [
    {
     "data": {
      "text/plain": [
       "(torch.Size([224, 224, 3]), torch.float32)"
      ]
     },
     "execution_count": 14,
     "metadata": {},
     "output_type": "execute_result"
    }
   ],
   "execution_count": 14
  },
  {
   "metadata": {
    "ExecuteTime": {
     "end_time": "2025-03-31T18:23:23.793805Z",
     "start_time": "2025-03-31T18:23:23.780783Z"
    }
   },
   "cell_type": "code",
   "source": [
    "zeros = torch.zeros(size=(3, 4))\n",
    "zeros, zeros.dtype\n",
    "#creating a tensor filled with zeros only"
   ],
   "id": "e685b1c93c9c80e9",
   "outputs": [
    {
     "data": {
      "text/plain": [
       "(tensor([[0., 0., 0., 0.],\n",
       "         [0., 0., 0., 0.],\n",
       "         [0., 0., 0., 0.]]),\n",
       " torch.float32)"
      ]
     },
     "execution_count": 15,
     "metadata": {},
     "output_type": "execute_result"
    }
   ],
   "execution_count": 15
  },
  {
   "metadata": {
    "ExecuteTime": {
     "end_time": "2025-03-31T18:23:23.820297Z",
     "start_time": "2025-03-31T18:23:23.815414Z"
    }
   },
   "cell_type": "code",
   "source": [
    "ones = torch.ones(size=(3, 4))\n",
    "ones, ones.dtype\n",
    "#creating a tensor filled with ones only"
   ],
   "id": "53278a9e651db07a",
   "outputs": [
    {
     "data": {
      "text/plain": [
       "(tensor([[1., 1., 1., 1.],\n",
       "         [1., 1., 1., 1.],\n",
       "         [1., 1., 1., 1.]]),\n",
       " torch.float32)"
      ]
     },
     "execution_count": 16,
     "metadata": {},
     "output_type": "execute_result"
    }
   ],
   "execution_count": 16
  },
  {
   "metadata": {
    "ExecuteTime": {
     "end_time": "2025-03-31T18:23:23.834304Z",
     "start_time": "2025-03-31T18:23:23.828042Z"
    }
   },
   "cell_type": "code",
   "source": [
    "zero_to_ten = torch.arange(start=0, end=10, step=1)\n",
    "zero_to_ten\n",
    "#creating a tensor with the numbers ranged 0-9"
   ],
   "id": "6ea91cec78ac381a",
   "outputs": [
    {
     "data": {
      "text/plain": [
       "tensor([0, 1, 2, 3, 4, 5, 6, 7, 8, 9])"
      ]
     },
     "execution_count": 17,
     "metadata": {},
     "output_type": "execute_result"
    }
   ],
   "execution_count": 17
  },
  {
   "metadata": {
    "ExecuteTime": {
     "end_time": "2025-03-31T18:23:23.846824Z",
     "start_time": "2025-03-31T18:23:23.841909Z"
    }
   },
   "cell_type": "code",
   "source": [
    "ten_zeros = torch.zeros_like(input=zero_to_ten)\n",
    "ten_zeros\n",
    "#zeros_like() is used to create a tensor with the same shape as the one in \"input\" parameter, but filled with zeros"
   ],
   "id": "f3e8b59f62c8c924",
   "outputs": [
    {
     "data": {
      "text/plain": [
       "tensor([0, 0, 0, 0, 0, 0, 0, 0, 0, 0])"
      ]
     },
     "execution_count": 18,
     "metadata": {},
     "output_type": "execute_result"
    }
   ],
   "execution_count": 18
  },
  {
   "metadata": {
    "ExecuteTime": {
     "end_time": "2025-03-31T18:23:23.863875Z",
     "start_time": "2025-03-31T18:23:23.853326Z"
    }
   },
   "cell_type": "code",
   "source": [
    "float_32_tensor = torch.tensor([3.0, 6.0, 9.0],\n",
    "                               dtype=None,\n",
    "                               device=None,\n",
    "                               requires_grad=False)\n",
    "float_32_tensor.shape, float_32_tensor.dtype, float_32_tensor.device\n",
    "#creating a tensor with some specified parameters. To perform operations between tensors, they should have the same dtype, be stored on the same device and have appropriate shapes."
   ],
   "id": "2acba2a06bc2f077",
   "outputs": [
    {
     "data": {
      "text/plain": [
       "(torch.Size([3]), torch.float32, device(type='cpu'))"
      ]
     },
     "execution_count": 19,
     "metadata": {},
     "output_type": "execute_result"
    }
   ],
   "execution_count": 19
  },
  {
   "metadata": {
    "ExecuteTime": {
     "end_time": "2025-03-31T18:23:23.887499Z",
     "start_time": "2025-03-31T18:23:23.871369Z"
    }
   },
   "cell_type": "code",
   "source": [
    "float_16_tensor = torch.tensor([3.0, 6.0, 9.0],\n",
    "                               dtype=torch.float16)\n",
    "float_16_tensor.shape, float_16_tensor.dtype, float_16_tensor.device\n",
    "#specifiyng dtype for the tensor. The more precise the dtype is, the more effective the model will be able to perform (because it could represent more details in numbers)"
   ],
   "id": "764652a515a9826e",
   "outputs": [
    {
     "data": {
      "text/plain": [
       "(torch.Size([3]), torch.float16, device(type='cpu'))"
      ]
     },
     "execution_count": 20,
     "metadata": {},
     "output_type": "execute_result"
    }
   ],
   "execution_count": 20
  },
  {
   "metadata": {
    "ExecuteTime": {
     "end_time": "2025-03-31T18:23:23.905920Z",
     "start_time": "2025-03-31T18:23:23.894633Z"
    }
   },
   "cell_type": "code",
   "source": [
    "some_tensor = torch.randn(size=(3, 4))\n",
    "print(some_tensor)\n",
    "print(f\"Shape of tensor: {some_tensor.shape}\")\n",
    "print(f\"Datatype of tensor: {some_tensor.dtype}\")\n",
    "print(f\"Device tensor is stored on: {some_tensor.device}\")\n",
    "#printing out some essential information about the tensor."
   ],
   "id": "80187ee3f7434b08",
   "outputs": [
    {
     "name": "stdout",
     "output_type": "stream",
     "text": [
      "tensor([[ 0.3523,  0.1556,  0.6859,  0.7633],\n",
      "        [ 0.7738,  0.5699,  1.4864,  0.4411],\n",
      "        [-0.3157, -0.3688, -0.4755, -0.1826]])\n",
      "Shape of tensor: torch.Size([3, 4])\n",
      "Datatype of tensor: torch.float32\n",
      "Device tensor is stored on: cpu\n"
     ]
    }
   ],
   "execution_count": 21
  },
  {
   "metadata": {
    "ExecuteTime": {
     "end_time": "2025-03-31T18:23:23.943817Z",
     "start_time": "2025-03-31T18:23:23.929216Z"
    }
   },
   "cell_type": "code",
   "source": [
    "tensor = torch.tensor([1, 2, 3])\n",
    "print(tensor + 10)\n",
    "print(tensor - 10)\n",
    "print(tensor * 10)\n",
    "tensor\n",
    "#tensor can be modified by these mathematical operations. They are calculated element-wise. The changes aren't saved for the tensor as long as it hasn't been reassigned"
   ],
   "id": "fc058b9f0147cd7d",
   "outputs": [
    {
     "name": "stdout",
     "output_type": "stream",
     "text": [
      "tensor([11, 12, 13])\n",
      "tensor([-9, -8, -7])\n",
      "tensor([10, 20, 30])\n"
     ]
    },
    {
     "data": {
      "text/plain": [
       "tensor([1, 2, 3])"
      ]
     },
     "execution_count": 22,
     "metadata": {},
     "output_type": "execute_result"
    }
   ],
   "execution_count": 22
  },
  {
   "metadata": {
    "ExecuteTime": {
     "end_time": "2025-03-31T18:23:23.960552Z",
     "start_time": "2025-03-31T18:23:23.951508Z"
    }
   },
   "cell_type": "code",
   "source": [
    "tensor -= 10\n",
    "tensor\n",
    "#subtraction with reassignment."
   ],
   "id": "ca428a758f4932c9",
   "outputs": [
    {
     "data": {
      "text/plain": [
       "tensor([-9, -8, -7])"
      ]
     },
     "execution_count": 23,
     "metadata": {},
     "output_type": "execute_result"
    }
   ],
   "execution_count": 23
  },
  {
   "metadata": {
    "ExecuteTime": {
     "end_time": "2025-03-31T18:23:23.979238Z",
     "start_time": "2025-03-31T18:23:23.967672Z"
    }
   },
   "cell_type": "code",
   "source": [
    "tensor += 10\n",
    "tensor\n",
    "#adding with reassignment."
   ],
   "id": "aabcc7ece6ff08f1",
   "outputs": [
    {
     "data": {
      "text/plain": [
       "tensor([1, 2, 3])"
      ]
     },
     "execution_count": 24,
     "metadata": {},
     "output_type": "execute_result"
    }
   ],
   "execution_count": 24
  },
  {
   "metadata": {
    "ExecuteTime": {
     "end_time": "2025-03-31T18:23:23.995653Z",
     "start_time": "2025-03-31T18:23:23.986684Z"
    }
   },
   "cell_type": "code",
   "source": [
    "print(torch.multiply(tensor, 10))\n",
    "tensor\n",
    "#multiplication using built-in function"
   ],
   "id": "5bc4c83b215af0c8",
   "outputs": [
    {
     "name": "stdout",
     "output_type": "stream",
     "text": [
      "tensor([10, 20, 30])\n"
     ]
    },
    {
     "data": {
      "text/plain": [
       "tensor([1, 2, 3])"
      ]
     },
     "execution_count": 25,
     "metadata": {},
     "output_type": "execute_result"
    }
   ],
   "execution_count": 25
  },
  {
   "metadata": {
    "ExecuteTime": {
     "end_time": "2025-03-31T18:23:24.027847Z",
     "start_time": "2025-03-31T18:23:24.018557Z"
    }
   },
   "cell_type": "code",
   "source": [
    "print(tensor, \"*\", tensor)\n",
    "print(\"Equals:\", tensor * tensor)\n",
    "#element-wise multiplication"
   ],
   "id": "c663e919bd5489c1",
   "outputs": [
    {
     "name": "stdout",
     "output_type": "stream",
     "text": [
      "tensor([1, 2, 3]) * tensor([1, 2, 3])\n",
      "Equals: tensor([1, 4, 9])\n"
     ]
    }
   ],
   "execution_count": 26
  },
  {
   "metadata": {
    "ExecuteTime": {
     "end_time": "2025-03-31T18:23:24.044488Z",
     "start_time": "2025-03-31T18:23:24.032297Z"
    }
   },
   "cell_type": "code",
   "source": [
    "tensor = torch.tensor([1, 2, 3])\n",
    "tensor.shape\n",
    "#creating new tensor"
   ],
   "id": "a500b9440959191f",
   "outputs": [
    {
     "data": {
      "text/plain": [
       "torch.Size([3])"
      ]
     },
     "execution_count": 27,
     "metadata": {},
     "output_type": "execute_result"
    }
   ],
   "execution_count": 27
  },
  {
   "metadata": {
    "ExecuteTime": {
     "end_time": "2025-03-31T18:23:24.069223Z",
     "start_time": "2025-03-31T18:23:24.052034Z"
    }
   },
   "cell_type": "code",
   "source": [
    "print(tensor * tensor)\n",
    "print(torch.matmul(tensor, tensor))\n",
    "tensor @ tensor\n",
    "#matrix multiplication. One can perform it using torch.matmul() or sign \"@\""
   ],
   "id": "6448792ef276ad62",
   "outputs": [
    {
     "name": "stdout",
     "output_type": "stream",
     "text": [
      "tensor([1, 4, 9])\n",
      "tensor(14)\n"
     ]
    },
    {
     "data": {
      "text/plain": [
       "tensor(14)"
      ]
     },
     "execution_count": 28,
     "metadata": {},
     "output_type": "execute_result"
    }
   ],
   "execution_count": 28
  },
  {
   "metadata": {
    "ExecuteTime": {
     "end_time": "2025-03-31T18:23:24.162097Z",
     "start_time": "2025-03-31T18:23:24.092172Z"
    }
   },
   "cell_type": "code",
   "source": [
    "tensor_A = torch.tensor([[1, 2],\n",
    "                         [3, 4],\n",
    "                         [5, 6]], dtype=torch.float32)\n",
    "\n",
    "tensor_B = torch.tensor([[7, 10],\n",
    "                         [8, 11],\n",
    "                         [9, 12]], dtype=torch.float32)\n",
    "\n",
    "torch.matmul(tensor_A, tensor_B)"
   ],
   "id": "45922822e0ce893a",
   "outputs": [
    {
     "ename": "RuntimeError",
     "evalue": "mat1 and mat2 shapes cannot be multiplied (3x2 and 3x2)",
     "output_type": "error",
     "traceback": [
      "\u001B[31m---------------------------------------------------------------------------\u001B[39m",
      "\u001B[31mRuntimeError\u001B[39m                              Traceback (most recent call last)",
      "\u001B[36mCell\u001B[39m\u001B[36m \u001B[39m\u001B[32mIn[29]\u001B[39m\u001B[32m, line 9\u001B[39m\n\u001B[32m      1\u001B[39m tensor_A = torch.tensor([[\u001B[32m1\u001B[39m, \u001B[32m2\u001B[39m],\n\u001B[32m      2\u001B[39m                          [\u001B[32m3\u001B[39m, \u001B[32m4\u001B[39m],\n\u001B[32m      3\u001B[39m                          [\u001B[32m5\u001B[39m, \u001B[32m6\u001B[39m]], dtype=torch.float32)\n\u001B[32m      5\u001B[39m tensor_B = torch.tensor([[\u001B[32m7\u001B[39m, \u001B[32m10\u001B[39m],\n\u001B[32m      6\u001B[39m                          [\u001B[32m8\u001B[39m, \u001B[32m11\u001B[39m],\n\u001B[32m      7\u001B[39m                          [\u001B[32m9\u001B[39m, \u001B[32m12\u001B[39m]], dtype=torch.float32)\n\u001B[32m----> \u001B[39m\u001B[32m9\u001B[39m \u001B[43mtorch\u001B[49m\u001B[43m.\u001B[49m\u001B[43mmatmul\u001B[49m\u001B[43m(\u001B[49m\u001B[43mtensor_A\u001B[49m\u001B[43m,\u001B[49m\u001B[43m \u001B[49m\u001B[43mtensor_B\u001B[49m\u001B[43m)\u001B[49m\n",
      "\u001B[31mRuntimeError\u001B[39m: mat1 and mat2 shapes cannot be multiplied (3x2 and 3x2)"
     ]
    }
   ],
   "execution_count": 29
  },
  {
   "metadata": {
    "ExecuteTime": {
     "end_time": "2025-03-31T18:23:33.378427Z",
     "start_time": "2025-03-31T18:23:33.369888Z"
    }
   },
   "cell_type": "code",
   "source": [
    "print(tensor_A)\n",
    "print(tensor_B)"
   ],
   "id": "90c98433507f224d",
   "outputs": [
    {
     "name": "stdout",
     "output_type": "stream",
     "text": [
      "tensor([[1., 2.],\n",
      "        [3., 4.],\n",
      "        [5., 6.]])\n",
      "tensor([[ 7., 10.],\n",
      "        [ 8., 11.],\n",
      "        [ 9., 12.]])\n"
     ]
    }
   ],
   "execution_count": 30
  },
  {
   "metadata": {
    "ExecuteTime": {
     "end_time": "2025-03-31T18:23:43.072492Z",
     "start_time": "2025-03-31T18:23:43.057426Z"
    }
   },
   "cell_type": "code",
   "source": [
    "print(tensor_A)\n",
    "print(tensor_B.T)"
   ],
   "id": "a0b6e15847dfc4",
   "outputs": [
    {
     "name": "stdout",
     "output_type": "stream",
     "text": [
      "tensor([[1., 2.],\n",
      "        [3., 4.],\n",
      "        [5., 6.]])\n",
      "tensor([[ 7.,  8.,  9.],\n",
      "        [10., 11., 12.]])\n"
     ]
    }
   ],
   "execution_count": 31
  },
  {
   "metadata": {
    "ExecuteTime": {
     "end_time": "2025-03-31T18:24:07.298429Z",
     "start_time": "2025-03-31T18:24:07.279883Z"
    }
   },
   "cell_type": "code",
   "source": [
    "print(f\"Original shapes: tensor_A = {tensor_A.shape}, tensor_B = {tensor_B.shape}\\n\")\n",
    "print(f\"New shapes: tensor_A = {tensor_A.shape} (same as above), tensor_B.T = {tensor_B.T.shape}\\n\")\n",
    "print(f\"Multiplying: {tensor_A.shape} * {tensor_B.T.shape} <- inner dimensions match\\n\")\n",
    "print(\"Output:\\n\")\n",
    "output = torch.matmul(tensor_A, tensor_B.T)\n",
    "print(output)\n",
    "print(f\"\\nOutput shape: {output.shape}\")"
   ],
   "id": "ac5df2109c28638c",
   "outputs": [
    {
     "name": "stdout",
     "output_type": "stream",
     "text": [
      "Original shapes: tensor_A = torch.Size([3, 2]), tensor_B = torch.Size([3, 2])\n",
      "\n",
      "New shapes: tensor_A = torch.Size([3, 2]) (same as above), tensor_B.T = torch.Size([2, 3])\n",
      "\n",
      "Multiplying: torch.Size([3, 2]) * torch.Size([2, 3]) <- inner dimensions match\n",
      "\n",
      "Output:\n",
      "\n",
      "tensor([[ 27.,  30.,  33.],\n",
      "        [ 61.,  68.,  75.],\n",
      "        [ 95., 106., 117.]])\n",
      "\n",
      "Output shape: torch.Size([3, 3])\n"
     ]
    }
   ],
   "execution_count": 32
  },
  {
   "metadata": {
    "ExecuteTime": {
     "end_time": "2025-03-31T18:25:42.880581Z",
     "start_time": "2025-03-31T18:25:42.866066Z"
    }
   },
   "cell_type": "code",
   "source": [
    "torch.mm(tensor_A, tensor_B.T)\n",
    "#http://matrixmultiplication.xyz/"
   ],
   "id": "94a63719bab1818",
   "outputs": [
    {
     "data": {
      "text/plain": [
       "tensor([[ 27.,  30.,  33.],\n",
       "        [ 61.,  68.,  75.],\n",
       "        [ 95., 106., 117.]])"
      ]
     },
     "execution_count": 33,
     "metadata": {},
     "output_type": "execute_result"
    }
   ],
   "execution_count": 33
  },
  {
   "metadata": {
    "ExecuteTime": {
     "end_time": "2025-03-31T18:29:33.907862Z",
     "start_time": "2025-03-31T18:29:33.891415Z"
    }
   },
   "cell_type": "code",
   "source": [
    "torch.manual_seed(42)\n",
    "\n",
    "linear = torch.nn.Linear(in_features=2,\n",
    "                         out_features=6)\n",
    "x = tensor_A\n",
    "output = linear(x)\n",
    "print(f\"Input shape: {x.shape}\\n\")\n",
    "print(f\"Output:\\n{output}\\n\\nOutput shape: {output.shape}\")"
   ],
   "id": "a8ff33446eac0fec",
   "outputs": [
    {
     "name": "stdout",
     "output_type": "stream",
     "text": [
      "Input shape: torch.Size([3, 2])\n",
      "\n",
      "Output:\n",
      "tensor([[2.2368, 1.2292, 0.4714, 0.3864, 0.1309, 0.9838],\n",
      "        [4.4919, 2.1970, 0.4469, 0.5285, 0.3401, 2.4777],\n",
      "        [6.7469, 3.1648, 0.4224, 0.6705, 0.5493, 3.9716]],\n",
      "       grad_fn=<AddmmBackward0>)\n",
      "\n",
      "Output shape: torch.Size([3, 6])\n"
     ]
    }
   ],
   "execution_count": 37
  },
  {
   "metadata": {
    "ExecuteTime": {
     "end_time": "2025-03-31T18:29:35.203382Z",
     "start_time": "2025-03-31T18:29:35.190534Z"
    }
   },
   "cell_type": "code",
   "source": [
    "torch.manual_seed(42)\n",
    "\n",
    "linear = torch.nn.Linear(in_features=3,\n",
    "                         out_features=6)\n",
    "x = tensor_A\n",
    "output = linear(x.T)\n",
    "print(f\"Input shape: {x.shape}\\n\")\n",
    "print(f\"Output:\\n{output}\\n\\nOutput shape: {output.shape}\")"
   ],
   "id": "78d096a05e76a4f8",
   "outputs": [
    {
     "name": "stdout",
     "output_type": "stream",
     "text": [
      "Input shape: torch.Size([3, 2])\n",
      "\n",
      "Output:\n",
      "tensor([[0.9332, 0.8805, 3.0149, 1.5545, 1.8186, 2.0634],\n",
      "        [1.7186, 1.4009, 3.5818, 1.7408, 2.6017, 2.5123]],\n",
      "       grad_fn=<AddmmBackward0>)\n",
      "\n",
      "Output shape: torch.Size([2, 6])\n"
     ]
    }
   ],
   "execution_count": 38
  },
  {
   "metadata": {
    "ExecuteTime": {
     "end_time": "2025-03-31T18:30:39.665143Z",
     "start_time": "2025-03-31T18:30:39.650668Z"
    }
   },
   "cell_type": "code",
   "source": [
    "x = torch.arange(0, 100, 10)\n",
    "x"
   ],
   "id": "d3f16b10cd1ea248",
   "outputs": [
    {
     "data": {
      "text/plain": [
       "tensor([ 0, 10, 20, 30, 40, 50, 60, 70, 80, 90])"
      ]
     },
     "execution_count": 39,
     "metadata": {},
     "output_type": "execute_result"
    }
   ],
   "execution_count": 39
  },
  {
   "metadata": {
    "ExecuteTime": {
     "end_time": "2025-03-31T18:30:58.146773Z",
     "start_time": "2025-03-31T18:30:58.136084Z"
    }
   },
   "cell_type": "code",
   "source": [
    "print(f\"Minimum: {x.min()}\")\n",
    "print(f\"Maximum: {x.max()}\")\n",
    "# print(f\"Mean: {x.mean()}\")\n",
    "print(f\"Mean: {x.type(torch.float32).mean()}\")\n",
    "print(f\"Sum: {x.sum()}\")"
   ],
   "id": "b5d7358e67793baa",
   "outputs": [
    {
     "name": "stdout",
     "output_type": "stream",
     "text": [
      "Minimum: 0\n",
      "Maximum: 90\n",
      "Mean: 45.0\n",
      "Sum: 450\n"
     ]
    }
   ],
   "execution_count": 40
  },
  {
   "metadata": {
    "ExecuteTime": {
     "end_time": "2025-03-31T18:31:18.818640Z",
     "start_time": "2025-03-31T18:31:18.804760Z"
    }
   },
   "cell_type": "code",
   "source": "torch.max(x), torch.min(x), torch.mean(x.type(torch.float32)), torch.sum(x)",
   "id": "1e7f8074a91f7d96",
   "outputs": [
    {
     "data": {
      "text/plain": [
       "(tensor(90), tensor(0), tensor(45.), tensor(450))"
      ]
     },
     "execution_count": 41,
     "metadata": {},
     "output_type": "execute_result"
    }
   ],
   "execution_count": 41
  },
  {
   "metadata": {
    "ExecuteTime": {
     "end_time": "2025-03-31T18:31:56.212936Z",
     "start_time": "2025-03-31T18:31:56.199175Z"
    }
   },
   "cell_type": "code",
   "source": [
    "tensor = torch.arange(10, 100, 10)\n",
    "print(f\"Tensor: {tensor}\")\n",
    "\n",
    "print(f\"Index where max value occurs: {tensor.argmax()}\")\n",
    "print(f\"Index where min value occurs: {tensor.argmin()}\")"
   ],
   "id": "b54826bf87e2c2da",
   "outputs": [
    {
     "name": "stdout",
     "output_type": "stream",
     "text": [
      "Tensor: tensor([10, 20, 30, 40, 50, 60, 70, 80, 90])\n",
      "Index where max value occurs: 8\n",
      "Index where min value occurs: 0\n"
     ]
    }
   ],
   "execution_count": 42
  },
  {
   "metadata": {
    "ExecuteTime": {
     "end_time": "2025-03-31T18:32:32.635400Z",
     "start_time": "2025-03-31T18:32:32.622815Z"
    }
   },
   "cell_type": "code",
   "source": [
    "tensor = torch.arange(10., 100., 10.)\n",
    "tensor.dtype"
   ],
   "id": "4d70ff63c4c7e954",
   "outputs": [
    {
     "data": {
      "text/plain": [
       "torch.float32"
      ]
     },
     "execution_count": 43,
     "metadata": {},
     "output_type": "execute_result"
    }
   ],
   "execution_count": 43
  },
  {
   "metadata": {
    "ExecuteTime": {
     "end_time": "2025-03-31T18:32:45.749257Z",
     "start_time": "2025-03-31T18:32:45.738723Z"
    }
   },
   "cell_type": "code",
   "source": [
    "tensor_float16 = tensor.type(torch.float16)\n",
    "tensor_float16"
   ],
   "id": "4293ee7cb19c1204",
   "outputs": [
    {
     "data": {
      "text/plain": [
       "tensor([10., 20., 30., 40., 50., 60., 70., 80., 90.], dtype=torch.float16)"
      ]
     },
     "execution_count": 44,
     "metadata": {},
     "output_type": "execute_result"
    }
   ],
   "execution_count": 44
  },
  {
   "metadata": {
    "ExecuteTime": {
     "end_time": "2025-03-31T18:32:59.539907Z",
     "start_time": "2025-03-31T18:32:59.525616Z"
    }
   },
   "cell_type": "code",
   "source": [
    "tensor_int8 = tensor.type(torch.int8)\n",
    "tensor_int8"
   ],
   "id": "9c37c359519a90e8",
   "outputs": [
    {
     "data": {
      "text/plain": [
       "tensor([10, 20, 30, 40, 50, 60, 70, 80, 90], dtype=torch.int8)"
      ]
     },
     "execution_count": 45,
     "metadata": {},
     "output_type": "execute_result"
    }
   ],
   "execution_count": 45
  },
  {
   "metadata": {
    "ExecuteTime": {
     "end_time": "2025-03-31T18:36:02.313661Z",
     "start_time": "2025-03-31T18:36:02.301628Z"
    }
   },
   "cell_type": "code",
   "source": [
    "import torch\n",
    "x = torch.arange(1., 8.)\n",
    "x, x.shape"
   ],
   "id": "235432f93c6bd2fe",
   "outputs": [
    {
     "data": {
      "text/plain": [
       "(tensor([1., 2., 3., 4., 5., 6., 7.]), torch.Size([7]))"
      ]
     },
     "execution_count": 46,
     "metadata": {},
     "output_type": "execute_result"
    }
   ],
   "execution_count": 46
  },
  {
   "metadata": {
    "ExecuteTime": {
     "end_time": "2025-03-31T18:36:23.193595Z",
     "start_time": "2025-03-31T18:36:23.180482Z"
    }
   },
   "cell_type": "code",
   "source": [
    "x_reshaped = x.reshape(1, 7)\n",
    "x_reshaped, x_reshaped.shape"
   ],
   "id": "10907e5df9ee76ed",
   "outputs": [
    {
     "data": {
      "text/plain": [
       "(tensor([[1., 2., 3., 4., 5., 6., 7.]]), torch.Size([1, 7]))"
      ]
     },
     "execution_count": 47,
     "metadata": {},
     "output_type": "execute_result"
    }
   ],
   "execution_count": 47
  },
  {
   "metadata": {
    "ExecuteTime": {
     "end_time": "2025-03-31T18:36:40.458615Z",
     "start_time": "2025-03-31T18:36:40.445095Z"
    }
   },
   "cell_type": "code",
   "source": [
    "z = x.view(1, 7)\n",
    "z, z.shape"
   ],
   "id": "20205bfc4056cb29",
   "outputs": [
    {
     "data": {
      "text/plain": [
       "(tensor([[1., 2., 3., 4., 5., 6., 7.]]), torch.Size([1, 7]))"
      ]
     },
     "execution_count": 48,
     "metadata": {},
     "output_type": "execute_result"
    }
   ],
   "execution_count": 48
  },
  {
   "metadata": {
    "ExecuteTime": {
     "end_time": "2025-03-31T18:37:17.834396Z",
     "start_time": "2025-03-31T18:37:17.818266Z"
    }
   },
   "cell_type": "code",
   "source": [
    "z[:, 0] = 5\n",
    "z, x"
   ],
   "id": "9cbc799619974f59",
   "outputs": [
    {
     "data": {
      "text/plain": [
       "(tensor([[5., 2., 3., 4., 5., 6., 7.]]), tensor([5., 2., 3., 4., 5., 6., 7.]))"
      ]
     },
     "execution_count": 49,
     "metadata": {},
     "output_type": "execute_result"
    }
   ],
   "execution_count": 49
  },
  {
   "metadata": {
    "ExecuteTime": {
     "end_time": "2025-03-31T18:37:47.445494Z",
     "start_time": "2025-03-31T18:37:47.431555Z"
    }
   },
   "cell_type": "code",
   "source": [
    "x_stacked = torch.stack([x, x, x, x], dim=0)\n",
    "x_stacked"
   ],
   "id": "ddc8457b97dacc2d",
   "outputs": [
    {
     "data": {
      "text/plain": [
       "tensor([[5., 2., 3., 4., 5., 6., 7.],\n",
       "        [5., 2., 3., 4., 5., 6., 7.],\n",
       "        [5., 2., 3., 4., 5., 6., 7.],\n",
       "        [5., 2., 3., 4., 5., 6., 7.]])"
      ]
     },
     "execution_count": 54,
     "metadata": {},
     "output_type": "execute_result"
    }
   ],
   "execution_count": 54
  },
  {
   "metadata": {
    "ExecuteTime": {
     "end_time": "2025-03-31T18:38:06.556320Z",
     "start_time": "2025-03-31T18:38:06.541785Z"
    }
   },
   "cell_type": "code",
   "source": [
    "print(f\"Previous tensor: {x_reshaped}\")\n",
    "print(f\"Previous shape: {x_reshaped.shape}\")\n",
    "\n",
    "x_squeezed = x_reshaped.squeeze()\n",
    "print(f\"\\nNew tensor: {x_squeezed}\")\n",
    "print(f\"New shape: {x_squeezed.shape}\")"
   ],
   "id": "6f5e78fba1f300b8",
   "outputs": [
    {
     "name": "stdout",
     "output_type": "stream",
     "text": [
      "Previous tensor: tensor([[5., 2., 3., 4., 5., 6., 7.]])\n",
      "Previous shape: torch.Size([1, 7])\n",
      "\n",
      "New tensor: tensor([5., 2., 3., 4., 5., 6., 7.])\n",
      "New shape: torch.Size([7])\n"
     ]
    }
   ],
   "execution_count": 55
  },
  {
   "metadata": {
    "ExecuteTime": {
     "end_time": "2025-03-31T18:38:23.342278Z",
     "start_time": "2025-03-31T18:38:23.326047Z"
    }
   },
   "cell_type": "code",
   "source": [
    "print(f\"Previous tensor: {x_squeezed}\")\n",
    "print(f\"Previous shape: {x_squeezed.shape}\")\n",
    "\n",
    "x_unsqueezed = x_squeezed.unsqueeze(dim=0)\n",
    "print(f\"\\nNew tensor: {x_unsqueezed}\")\n",
    "print(f\"New shape: {x_unsqueezed.shape}\")"
   ],
   "id": "d13c20c87c9c43aa",
   "outputs": [
    {
     "name": "stdout",
     "output_type": "stream",
     "text": [
      "Previous tensor: tensor([5., 2., 3., 4., 5., 6., 7.])\n",
      "Previous shape: torch.Size([7])\n",
      "\n",
      "New tensor: tensor([[5., 2., 3., 4., 5., 6., 7.]])\n",
      "New shape: torch.Size([1, 7])\n"
     ]
    }
   ],
   "execution_count": 56
  },
  {
   "metadata": {
    "ExecuteTime": {
     "end_time": "2025-03-31T18:38:53.471531Z",
     "start_time": "2025-03-31T18:38:53.452947Z"
    }
   },
   "cell_type": "code",
   "source": [
    "x_original = torch.rand(size=(224, 224, 3))\n",
    "\n",
    "x_permuted = x_original.permute(2, 0, 1)\n",
    "\n",
    "print(f\"Previous shape: {x_original.shape}\")\n",
    "print(f\"New shape: {x_permuted.shape}\")"
   ],
   "id": "13f55432b0c3080b",
   "outputs": [
    {
     "name": "stdout",
     "output_type": "stream",
     "text": [
      "Previous shape: torch.Size([224, 224, 3])\n",
      "New shape: torch.Size([3, 224, 224])\n"
     ]
    }
   ],
   "execution_count": 57
  }
 ],
 "metadata": {
  "kernelspec": {
   "display_name": "Python 3",
   "language": "python",
   "name": "python3"
  },
  "language_info": {
   "codemirror_mode": {
    "name": "ipython",
    "version": 2
   },
   "file_extension": ".py",
   "mimetype": "text/x-python",
   "name": "python",
   "nbconvert_exporter": "python",
   "pygments_lexer": "ipython2",
   "version": "2.7.6"
  }
 },
 "nbformat": 4,
 "nbformat_minor": 5
}

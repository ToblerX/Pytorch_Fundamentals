{
 "cells": [
  {
   "metadata": {
    "ExecuteTime": {
     "end_time": "2025-03-30T14:35:07.147818Z",
     "start_time": "2025-03-30T14:35:07.144654Z"
    }
   },
   "cell_type": "code",
   "source": [
    "import torch\n",
    "print(torch.__version__)"
   ],
   "id": "fbc121e30a2defb3",
   "outputs": [
    {
     "name": "stdout",
     "output_type": "stream",
     "text": [
      "2.6.0+cu126\n"
     ]
    }
   ],
   "execution_count": 2
  },
  {
   "metadata": {
    "ExecuteTime": {
     "end_time": "2025-03-30T14:36:14.339655Z",
     "start_time": "2025-03-30T14:36:14.335751Z"
    }
   },
   "cell_type": "code",
   "source": [
    "scalar = torch.tensor(7)\n",
    "scalar"
   ],
   "id": "8e9e6f457ff01f59",
   "outputs": [
    {
     "data": {
      "text/plain": [
       "tensor(7)"
      ]
     },
     "execution_count": 8,
     "metadata": {},
     "output_type": "execute_result"
    }
   ],
   "execution_count": 8
  },
  {
   "metadata": {
    "ExecuteTime": {
     "end_time": "2025-03-30T14:36:15.439004Z",
     "start_time": "2025-03-30T14:36:15.435702Z"
    }
   },
   "cell_type": "code",
   "source": "scalar.ndim",
   "id": "8676eb4d7fcea637",
   "outputs": [
    {
     "data": {
      "text/plain": [
       "0"
      ]
     },
     "execution_count": 9,
     "metadata": {},
     "output_type": "execute_result"
    }
   ],
   "execution_count": 9
  },
  {
   "metadata": {
    "ExecuteTime": {
     "end_time": "2025-03-30T14:36:50.946690Z",
     "start_time": "2025-03-30T14:36:50.943399Z"
    }
   },
   "cell_type": "code",
   "source": "scalar.item()",
   "id": "6980f4a568dc7e78",
   "outputs": [
    {
     "data": {
      "text/plain": [
       "7"
      ]
     },
     "execution_count": 11,
     "metadata": {},
     "output_type": "execute_result"
    }
   ],
   "execution_count": 11
  },
  {
   "metadata": {
    "ExecuteTime": {
     "end_time": "2025-03-30T14:41:16.779438Z",
     "start_time": "2025-03-30T14:41:16.773826Z"
    }
   },
   "cell_type": "code",
   "source": [
    "vector = torch.tensor([7, 7])\n",
    "vector"
   ],
   "id": "7a41b3359f6ffd0a",
   "outputs": [
    {
     "data": {
      "text/plain": [
       "tensor([7, 7])"
      ]
     },
     "execution_count": 13,
     "metadata": {},
     "output_type": "execute_result"
    }
   ],
   "execution_count": 13
  },
  {
   "metadata": {
    "ExecuteTime": {
     "end_time": "2025-03-30T14:43:51.566352Z",
     "start_time": "2025-03-30T14:43:51.563591Z"
    }
   },
   "cell_type": "code",
   "source": "vector.shape",
   "id": "2648e999318b177c",
   "outputs": [
    {
     "data": {
      "text/plain": [
       "torch.Size([2])"
      ]
     },
     "execution_count": 14,
     "metadata": {},
     "output_type": "execute_result"
    }
   ],
   "execution_count": 14
  },
  {
   "metadata": {
    "ExecuteTime": {
     "end_time": "2025-03-30T14:47:28.970044Z",
     "start_time": "2025-03-30T14:47:28.965978Z"
    }
   },
   "cell_type": "code",
   "source": [
    "MATRIX = torch.tensor([[7,8],\n",
    "                       [9, 10]])\n",
    "MATRIX"
   ],
   "id": "c1e84524321603ec",
   "outputs": [
    {
     "data": {
      "text/plain": [
       "tensor([[ 7,  8],\n",
       "        [ 9, 10]])"
      ]
     },
     "execution_count": 15,
     "metadata": {},
     "output_type": "execute_result"
    }
   ],
   "execution_count": 15
  },
  {
   "metadata": {
    "ExecuteTime": {
     "end_time": "2025-03-30T14:50:57.393492Z",
     "start_time": "2025-03-30T14:50:57.389567Z"
    }
   },
   "cell_type": "code",
   "source": "MATRIX.shape",
   "id": "3c5bc0871a1e1b61",
   "outputs": [
    {
     "data": {
      "text/plain": [
       "torch.Size([2, 2])"
      ]
     },
     "execution_count": 16,
     "metadata": {},
     "output_type": "execute_result"
    }
   ],
   "execution_count": 16
  },
  {
   "metadata": {
    "ExecuteTime": {
     "end_time": "2025-03-30T14:53:26.328142Z",
     "start_time": "2025-03-30T14:53:26.324224Z"
    }
   },
   "cell_type": "code",
   "source": [
    "TENSOR = torch.tensor([[1,2,3],\n",
    "                       [3,6,9],\n",
    "                       [2,4,5]])\n",
    "TENSOR"
   ],
   "id": "dac1125428b91268",
   "outputs": [
    {
     "data": {
      "text/plain": [
       "tensor([[1, 2, 3],\n",
       "        [3, 6, 9],\n",
       "        [2, 4, 5]])"
      ]
     },
     "execution_count": 17,
     "metadata": {},
     "output_type": "execute_result"
    }
   ],
   "execution_count": 17
  },
  {
   "metadata": {
    "ExecuteTime": {
     "end_time": "2025-03-30T14:55:36.190387Z",
     "start_time": "2025-03-30T14:55:36.173328Z"
    }
   },
   "cell_type": "code",
   "source": "TENSOR.ndim",
   "id": "f90207878ed6aea9",
   "outputs": [
    {
     "data": {
      "text/plain": [
       "2"
      ]
     },
     "execution_count": 18,
     "metadata": {},
     "output_type": "execute_result"
    }
   ],
   "execution_count": 18
  },
  {
   "metadata": {
    "ExecuteTime": {
     "end_time": "2025-03-30T14:55:48.909857Z",
     "start_time": "2025-03-30T14:55:48.906320Z"
    }
   },
   "cell_type": "code",
   "source": "TENSOR.shape",
   "id": "4256389b65e368da",
   "outputs": [
    {
     "data": {
      "text/plain": [
       "torch.Size([3, 3])"
      ]
     },
     "execution_count": 19,
     "metadata": {},
     "output_type": "execute_result"
    }
   ],
   "execution_count": 19
  }
 ],
 "metadata": {
  "kernelspec": {
   "display_name": "Python 3",
   "language": "python",
   "name": "python3"
  },
  "language_info": {
   "codemirror_mode": {
    "name": "ipython",
    "version": 2
   },
   "file_extension": ".py",
   "mimetype": "text/x-python",
   "name": "python",
   "nbconvert_exporter": "python",
   "pygments_lexer": "ipython2",
   "version": "2.7.6"
  }
 },
 "nbformat": 4,
 "nbformat_minor": 5
}

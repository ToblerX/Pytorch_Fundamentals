{
 "cells": [
  {
   "metadata": {
    "ExecuteTime": {
     "end_time": "2025-03-30T14:35:07.147818Z",
     "start_time": "2025-03-30T14:35:07.144654Z"
    }
   },
   "cell_type": "code",
   "source": [
    "import torch\n",
    "from sympy.codegen.ast import float16\n",
    "\n",
    "print(torch.__version__)"
   ],
   "id": "fbc121e30a2defb3",
   "outputs": [
    {
     "name": "stdout",
     "output_type": "stream",
     "text": [
      "2.6.0+cu126\n"
     ]
    }
   ],
   "execution_count": 2
  },
  {
   "metadata": {
    "ExecuteTime": {
     "end_time": "2025-03-30T14:36:14.339655Z",
     "start_time": "2025-03-30T14:36:14.335751Z"
    }
   },
   "cell_type": "code",
   "source": [
    "scalar = torch.tensor(7)\n",
    "scalar"
   ],
   "id": "8e9e6f457ff01f59",
   "outputs": [
    {
     "data": {
      "text/plain": [
       "tensor(7)"
      ]
     },
     "execution_count": 8,
     "metadata": {},
     "output_type": "execute_result"
    }
   ],
   "execution_count": 8
  },
  {
   "metadata": {
    "ExecuteTime": {
     "end_time": "2025-03-30T14:36:15.439004Z",
     "start_time": "2025-03-30T14:36:15.435702Z"
    }
   },
   "cell_type": "code",
   "source": "scalar.ndim",
   "id": "8676eb4d7fcea637",
   "outputs": [
    {
     "data": {
      "text/plain": [
       "0"
      ]
     },
     "execution_count": 9,
     "metadata": {},
     "output_type": "execute_result"
    }
   ],
   "execution_count": 9
  },
  {
   "metadata": {
    "ExecuteTime": {
     "end_time": "2025-03-30T14:36:50.946690Z",
     "start_time": "2025-03-30T14:36:50.943399Z"
    }
   },
   "cell_type": "code",
   "source": "scalar.item()",
   "id": "6980f4a568dc7e78",
   "outputs": [
    {
     "data": {
      "text/plain": [
       "7"
      ]
     },
     "execution_count": 11,
     "metadata": {},
     "output_type": "execute_result"
    }
   ],
   "execution_count": 11
  },
  {
   "metadata": {
    "ExecuteTime": {
     "end_time": "2025-03-30T14:41:16.779438Z",
     "start_time": "2025-03-30T14:41:16.773826Z"
    }
   },
   "cell_type": "code",
   "source": [
    "vector = torch.tensor([7, 7])\n",
    "vector"
   ],
   "id": "7a41b3359f6ffd0a",
   "outputs": [
    {
     "data": {
      "text/plain": [
       "tensor([7, 7])"
      ]
     },
     "execution_count": 13,
     "metadata": {},
     "output_type": "execute_result"
    }
   ],
   "execution_count": 13
  },
  {
   "metadata": {
    "ExecuteTime": {
     "end_time": "2025-03-30T14:43:51.566352Z",
     "start_time": "2025-03-30T14:43:51.563591Z"
    }
   },
   "cell_type": "code",
   "source": "vector.shape",
   "id": "2648e999318b177c",
   "outputs": [
    {
     "data": {
      "text/plain": [
       "torch.Size([2])"
      ]
     },
     "execution_count": 14,
     "metadata": {},
     "output_type": "execute_result"
    }
   ],
   "execution_count": 14
  },
  {
   "metadata": {
    "ExecuteTime": {
     "end_time": "2025-03-30T14:47:28.970044Z",
     "start_time": "2025-03-30T14:47:28.965978Z"
    }
   },
   "cell_type": "code",
   "source": [
    "MATRIX = torch.tensor([[7,8],\n",
    "                       [9, 10]])\n",
    "MATRIX"
   ],
   "id": "c1e84524321603ec",
   "outputs": [
    {
     "data": {
      "text/plain": [
       "tensor([[ 7,  8],\n",
       "        [ 9, 10]])"
      ]
     },
     "execution_count": 15,
     "metadata": {},
     "output_type": "execute_result"
    }
   ],
   "execution_count": 15
  },
  {
   "metadata": {
    "ExecuteTime": {
     "end_time": "2025-03-30T14:50:57.393492Z",
     "start_time": "2025-03-30T14:50:57.389567Z"
    }
   },
   "cell_type": "code",
   "source": "MATRIX.shape",
   "id": "3c5bc0871a1e1b61",
   "outputs": [
    {
     "data": {
      "text/plain": [
       "torch.Size([2, 2])"
      ]
     },
     "execution_count": 16,
     "metadata": {},
     "output_type": "execute_result"
    }
   ],
   "execution_count": 16
  },
  {
   "metadata": {
    "ExecuteTime": {
     "end_time": "2025-03-30T14:53:26.328142Z",
     "start_time": "2025-03-30T14:53:26.324224Z"
    }
   },
   "cell_type": "code",
   "source": [
    "TENSOR = torch.tensor([[1,2,3],\n",
    "                       [3,6,9],\n",
    "                       [2,4,5]])\n",
    "TENSOR"
   ],
   "id": "dac1125428b91268",
   "outputs": [
    {
     "data": {
      "text/plain": [
       "tensor([[1, 2, 3],\n",
       "        [3, 6, 9],\n",
       "        [2, 4, 5]])"
      ]
     },
     "execution_count": 17,
     "metadata": {},
     "output_type": "execute_result"
    }
   ],
   "execution_count": 17
  },
  {
   "metadata": {
    "ExecuteTime": {
     "end_time": "2025-03-30T14:55:36.190387Z",
     "start_time": "2025-03-30T14:55:36.173328Z"
    }
   },
   "cell_type": "code",
   "source": "TENSOR.ndim",
   "id": "f90207878ed6aea9",
   "outputs": [
    {
     "data": {
      "text/plain": [
       "2"
      ]
     },
     "execution_count": 18,
     "metadata": {},
     "output_type": "execute_result"
    }
   ],
   "execution_count": 18
  },
  {
   "metadata": {
    "ExecuteTime": {
     "end_time": "2025-03-30T14:55:48.909857Z",
     "start_time": "2025-03-30T14:55:48.906320Z"
    }
   },
   "cell_type": "code",
   "source": "TENSOR.shape",
   "id": "4256389b65e368da",
   "outputs": [
    {
     "data": {
      "text/plain": [
       "torch.Size([3, 3])"
      ]
     },
     "execution_count": 19,
     "metadata": {},
     "output_type": "execute_result"
    }
   ],
   "execution_count": 19
  },
  {
   "metadata": {
    "ExecuteTime": {
     "end_time": "2025-03-30T15:32:22.990193Z",
     "start_time": "2025-03-30T15:32:22.982721Z"
    }
   },
   "cell_type": "code",
   "source": [
    "random_tensor = torch.randn(size=(3, 4))\n",
    "random_tensor, random_tensor.dtype"
   ],
   "id": "933816e11dd4fba4",
   "outputs": [
    {
     "data": {
      "text/plain": [
       "(tensor([[-2.2745,  0.4300, -0.2481, -0.3817],\n",
       "         [ 0.3089, -1.0004,  0.3204,  0.4827],\n",
       "         [-0.5075, -0.1781,  1.1122,  0.8649]]),\n",
       " torch.float32)"
      ]
     },
     "execution_count": 20,
     "metadata": {},
     "output_type": "execute_result"
    }
   ],
   "execution_count": 20
  },
  {
   "metadata": {
    "ExecuteTime": {
     "end_time": "2025-03-30T15:33:21.218732Z",
     "start_time": "2025-03-30T15:33:21.205118Z"
    }
   },
   "cell_type": "code",
   "source": [
    "random_image_tensor = torch.randn(size=(224, 224, 3))\n",
    "random_image_tensor.shape, random_image_tensor.dtype"
   ],
   "id": "c164c0c5d8bc45a3",
   "outputs": [
    {
     "data": {
      "text/plain": [
       "(torch.Size([224, 224, 3]), torch.float32)"
      ]
     },
     "execution_count": 21,
     "metadata": {},
     "output_type": "execute_result"
    }
   ],
   "execution_count": 21
  },
  {
   "metadata": {
    "ExecuteTime": {
     "end_time": "2025-03-30T15:34:08.423814Z",
     "start_time": "2025-03-30T15:34:08.405141Z"
    }
   },
   "cell_type": "code",
   "source": [
    "zeros = torch.zeros(size=(3, 4))\n",
    "zeros, zeros.dtype"
   ],
   "id": "e685b1c93c9c80e9",
   "outputs": [
    {
     "data": {
      "text/plain": [
       "(tensor([[0., 0., 0., 0.],\n",
       "         [0., 0., 0., 0.],\n",
       "         [0., 0., 0., 0.]]),\n",
       " torch.float32)"
      ]
     },
     "execution_count": 22,
     "metadata": {},
     "output_type": "execute_result"
    }
   ],
   "execution_count": 22
  },
  {
   "metadata": {
    "ExecuteTime": {
     "end_time": "2025-03-30T15:34:26.609185Z",
     "start_time": "2025-03-30T15:34:26.604938Z"
    }
   },
   "cell_type": "code",
   "source": [
    "ones = torch.ones(size=(3, 4))\n",
    "ones, ones.dtype"
   ],
   "id": "53278a9e651db07a",
   "outputs": [
    {
     "data": {
      "text/plain": [
       "(tensor([[1., 1., 1., 1.],\n",
       "         [1., 1., 1., 1.],\n",
       "         [1., 1., 1., 1.]]),\n",
       " torch.float32)"
      ]
     },
     "execution_count": 23,
     "metadata": {},
     "output_type": "execute_result"
    }
   ],
   "execution_count": 23
  },
  {
   "metadata": {
    "ExecuteTime": {
     "end_time": "2025-03-30T15:35:41.972054Z",
     "start_time": "2025-03-30T15:35:41.955428Z"
    }
   },
   "cell_type": "code",
   "source": [
    "zero_to_ten = torch.arange(start=0, end=10, step=1)\n",
    "zero_to_ten"
   ],
   "id": "6ea91cec78ac381a",
   "outputs": [
    {
     "data": {
      "text/plain": [
       "tensor([0, 1, 2, 3, 4, 5, 6, 7, 8, 9])"
      ]
     },
     "execution_count": 24,
     "metadata": {},
     "output_type": "execute_result"
    }
   ],
   "execution_count": 24
  },
  {
   "metadata": {
    "ExecuteTime": {
     "end_time": "2025-03-30T15:36:33.161203Z",
     "start_time": "2025-03-30T15:36:33.153500Z"
    }
   },
   "cell_type": "code",
   "source": [
    "ten_zeros = torch.zeros_like(input=zero_to_ten)\n",
    "ten_zeros"
   ],
   "id": "f3e8b59f62c8c924",
   "outputs": [
    {
     "data": {
      "text/plain": [
       "tensor([0, 0, 0, 0, 0, 0, 0, 0, 0, 0])"
      ]
     },
     "execution_count": 25,
     "metadata": {},
     "output_type": "execute_result"
    }
   ],
   "execution_count": 25
  },
  {
   "metadata": {
    "ExecuteTime": {
     "end_time": "2025-03-30T15:41:12.505308Z",
     "start_time": "2025-03-30T15:41:12.498966Z"
    }
   },
   "cell_type": "code",
   "source": [
    "float_32_tensor = torch.tensor([3.0, 6.0, 9.0],\n",
    "                               dtype=None,\n",
    "                               device=None,\n",
    "                               requires_grad=False)\n",
    "float_32_tensor.shape, float_32_tensor.dtype, float_32_tensor.device"
   ],
   "id": "2acba2a06bc2f077",
   "outputs": [
    {
     "data": {
      "text/plain": [
       "(torch.Size([3]), torch.float32, device(type='cpu'))"
      ]
     },
     "execution_count": 26,
     "metadata": {},
     "output_type": "execute_result"
    }
   ],
   "execution_count": 26
  },
  {
   "metadata": {
    "ExecuteTime": {
     "end_time": "2025-03-30T15:42:32.692052Z",
     "start_time": "2025-03-30T15:42:32.675931Z"
    }
   },
   "cell_type": "code",
   "source": [
    "float_16_tensor = torch.tensor([3.0, 6.0, 9.0],\n",
    "                               dtype=torch.float16)\n",
    "float_16_tensor.shape, float_16_tensor.dtype, float_16_tensor.device"
   ],
   "id": "764652a515a9826e",
   "outputs": [
    {
     "data": {
      "text/plain": [
       "(torch.Size([3]), torch.float16, device(type='cpu'))"
      ]
     },
     "execution_count": 27,
     "metadata": {},
     "output_type": "execute_result"
    }
   ],
   "execution_count": 27
  },
  {
   "metadata": {
    "ExecuteTime": {
     "end_time": "2025-03-30T15:43:21.959472Z",
     "start_time": "2025-03-30T15:43:21.951816Z"
    }
   },
   "cell_type": "code",
   "source": [
    "some_tensor = torch.randn(size=(3, 4))\n",
    "print(some_tensor)\n",
    "print(f\"Shape of tensor: {some_tensor.shape}\")\n",
    "print(f\"Datatype of tensor: {some_tensor.dtype}\")\n",
    "print(f\"Device tensor is stored on: {some_tensor.device}\")"
   ],
   "id": "80187ee3f7434b08",
   "outputs": [
    {
     "name": "stdout",
     "output_type": "stream",
     "text": [
      "tensor([[-0.5791, -0.7918,  1.4436, -0.0924],\n",
      "        [ 0.5974,  0.0301,  0.8456, -1.4838],\n",
      "        [-0.6423,  0.6017, -0.9330,  0.1618]])\n",
      "Shape of tensor: torch.Size([3, 4])\n",
      "Datatype of tensor: torch.float32\n",
      "Device tensor is stored on: cpu\n"
     ]
    }
   ],
   "execution_count": 28
  },
  {
   "metadata": {},
   "cell_type": "code",
   "outputs": [],
   "execution_count": null,
   "source": "",
   "id": "fc058b9f0147cd7d"
  }
 ],
 "metadata": {
  "kernelspec": {
   "display_name": "Python 3",
   "language": "python",
   "name": "python3"
  },
  "language_info": {
   "codemirror_mode": {
    "name": "ipython",
    "version": 2
   },
   "file_extension": ".py",
   "mimetype": "text/x-python",
   "name": "python",
   "nbconvert_exporter": "python",
   "pygments_lexer": "ipython2",
   "version": "2.7.6"
  }
 },
 "nbformat": 4,
 "nbformat_minor": 5
}

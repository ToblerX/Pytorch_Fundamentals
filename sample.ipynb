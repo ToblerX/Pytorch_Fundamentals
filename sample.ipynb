{
 "cells": [
  {
   "metadata": {
    "ExecuteTime": {
     "end_time": "2025-03-31T16:23:23.378355Z",
     "start_time": "2025-03-31T16:23:11.944709Z"
    }
   },
   "cell_type": "code",
   "source": [
    "import torch\n",
    "\n",
    "print(torch.__version__)\n",
    "#importing pytorch and checking whether it is correctly connected. One should also check out the cuda related article by pytorch, so that cuda was installed correctly"
   ],
   "id": "fbc121e30a2defb3",
   "outputs": [
    {
     "name": "stdout",
     "output_type": "stream",
     "text": [
      "2.6.0+cu126\n"
     ]
    }
   ],
   "execution_count": 1
  },
  {
   "metadata": {
    "ExecuteTime": {
     "end_time": "2025-03-31T16:24:15.841742Z",
     "start_time": "2025-03-31T16:24:15.826551Z"
    }
   },
   "cell_type": "code",
   "source": [
    "scalar = torch.tensor(7)\n",
    "scalar\n",
    "#scalar is a 0d tensor"
   ],
   "id": "8e9e6f457ff01f59",
   "outputs": [
    {
     "data": {
      "text/plain": [
       "tensor(7)"
      ]
     },
     "execution_count": 2,
     "metadata": {},
     "output_type": "execute_result"
    }
   ],
   "execution_count": 2
  },
  {
   "metadata": {
    "ExecuteTime": {
     "end_time": "2025-03-31T16:25:08.493484Z",
     "start_time": "2025-03-31T16:25:08.490441Z"
    }
   },
   "cell_type": "code",
   "source": [
    "scalar.ndim\n",
    "#checking number of dimensions. Predictably, 0 for scalar"
   ],
   "id": "8676eb4d7fcea637",
   "outputs": [
    {
     "data": {
      "text/plain": [
       "0"
      ]
     },
     "execution_count": 3,
     "metadata": {},
     "output_type": "execute_result"
    }
   ],
   "execution_count": 3
  },
  {
   "metadata": {
    "ExecuteTime": {
     "end_time": "2025-03-31T16:26:07.313634Z",
     "start_time": "2025-03-31T16:26:07.310171Z"
    }
   },
   "cell_type": "code",
   "source": [
    "scalar.item()\n",
    "#returns the number stored in scalar"
   ],
   "id": "6980f4a568dc7e78",
   "outputs": [
    {
     "data": {
      "text/plain": [
       "7"
      ]
     },
     "execution_count": 4,
     "metadata": {},
     "output_type": "execute_result"
    }
   ],
   "execution_count": 4
  },
  {
   "metadata": {
    "ExecuteTime": {
     "end_time": "2025-03-31T16:26:24.428466Z",
     "start_time": "2025-03-31T16:26:24.424765Z"
    }
   },
   "cell_type": "code",
   "source": [
    "vector = torch.tensor([7, 7])\n",
    "vector\n",
    "#creating a vector (1d tensor)"
   ],
   "id": "7a41b3359f6ffd0a",
   "outputs": [
    {
     "data": {
      "text/plain": [
       "tensor([7, 7])"
      ]
     },
     "execution_count": 5,
     "metadata": {},
     "output_type": "execute_result"
    }
   ],
   "execution_count": 5
  },
  {
   "metadata": {
    "ExecuteTime": {
     "end_time": "2025-03-30T14:43:51.566352Z",
     "start_time": "2025-03-30T14:43:51.563591Z"
    }
   },
   "cell_type": "code",
   "source": [
    "vector.shape\n",
    "#returns vector's shape"
   ],
   "id": "2648e999318b177c",
   "outputs": [
    {
     "data": {
      "text/plain": [
       "torch.Size([2])"
      ]
     },
     "execution_count": 14,
     "metadata": {},
     "output_type": "execute_result"
    }
   ],
   "execution_count": 14
  },
  {
   "metadata": {
    "ExecuteTime": {
     "end_time": "2025-03-31T16:28:58.574673Z",
     "start_time": "2025-03-31T16:28:58.559692Z"
    }
   },
   "cell_type": "code",
   "source": [
    "MATRIX = torch.tensor([[7, 8],\n",
    "                       [9, 10]])\n",
    "MATRIX\n",
    "#creating a matrix (2d tensor)"
   ],
   "id": "c1e84524321603ec",
   "outputs": [
    {
     "data": {
      "text/plain": [
       "tensor([[ 7,  8],\n",
       "        [ 9, 10]])"
      ]
     },
     "execution_count": 8,
     "metadata": {},
     "output_type": "execute_result"
    }
   ],
   "execution_count": 8
  },
  {
   "metadata": {
    "ExecuteTime": {
     "end_time": "2025-03-31T16:28:59.842253Z",
     "start_time": "2025-03-31T16:28:59.839138Z"
    }
   },
   "cell_type": "code",
   "source": [
    "MATRIX.shape\n",
    "#returns matrix's shape"
   ],
   "id": "3c5bc0871a1e1b61",
   "outputs": [
    {
     "data": {
      "text/plain": [
       "torch.Size([2, 2])"
      ]
     },
     "execution_count": 9,
     "metadata": {},
     "output_type": "execute_result"
    }
   ],
   "execution_count": 9
  },
  {
   "metadata": {
    "ExecuteTime": {
     "end_time": "2025-03-31T16:29:02.260752Z",
     "start_time": "2025-03-31T16:29:02.251412Z"
    }
   },
   "cell_type": "code",
   "source": [
    "TENSOR = torch.tensor([[1,2,3],\n",
    "                       [3,6,9],\n",
    "                       [2,4,5]])\n",
    "TENSOR\n",
    "#creating tensor"
   ],
   "id": "dac1125428b91268",
   "outputs": [
    {
     "data": {
      "text/plain": [
       "tensor([[1, 2, 3],\n",
       "        [3, 6, 9],\n",
       "        [2, 4, 5]])"
      ]
     },
     "execution_count": 10,
     "metadata": {},
     "output_type": "execute_result"
    }
   ],
   "execution_count": 10
  },
  {
   "metadata": {
    "ExecuteTime": {
     "end_time": "2025-03-31T16:29:58.419450Z",
     "start_time": "2025-03-31T16:29:58.415614Z"
    }
   },
   "cell_type": "code",
   "source": [
    "TENSOR.ndim\n",
    "#checking number of dimensions. It is easy countable by brackets on one side of the argument"
   ],
   "id": "f90207878ed6aea9",
   "outputs": [
    {
     "data": {
      "text/plain": [
       "2"
      ]
     },
     "execution_count": 11,
     "metadata": {},
     "output_type": "execute_result"
    }
   ],
   "execution_count": 11
  },
  {
   "metadata": {
    "ExecuteTime": {
     "end_time": "2025-03-31T16:30:00.850274Z",
     "start_time": "2025-03-31T16:30:00.846789Z"
    }
   },
   "cell_type": "code",
   "source": [
    "TENSOR.shape\n",
    "#checking tensor's shape"
   ],
   "id": "4256389b65e368da",
   "outputs": [
    {
     "data": {
      "text/plain": [
       "torch.Size([3, 3])"
      ]
     },
     "execution_count": 12,
     "metadata": {},
     "output_type": "execute_result"
    }
   ],
   "execution_count": 12
  },
  {
   "metadata": {
    "ExecuteTime": {
     "end_time": "2025-03-31T16:30:24.661190Z",
     "start_time": "2025-03-31T16:30:24.653662Z"
    }
   },
   "cell_type": "code",
   "source": [
    "random_tensor = torch.randn(size=(3, 4))\n",
    "random_tensor, random_tensor.dtype\n",
    "#creating a random tensor. Basically ML starts from random tensor and finds the best values."
   ],
   "id": "933816e11dd4fba4",
   "outputs": [
    {
     "data": {
      "text/plain": [
       "(tensor([[ 1.6562, -1.2672,  3.0527,  0.6731],\n",
       "         [ 0.6953, -1.4153, -0.3018, -0.7075],\n",
       "         [ 0.5909,  1.2305, -2.4895,  0.7293]]),\n",
       " torch.float32)"
      ]
     },
     "execution_count": 13,
     "metadata": {},
     "output_type": "execute_result"
    }
   ],
   "execution_count": 13
  },
  {
   "metadata": {
    "ExecuteTime": {
     "end_time": "2025-03-31T16:32:03.095227Z",
     "start_time": "2025-03-31T16:32:03.090634Z"
    }
   },
   "cell_type": "code",
   "source": [
    "random_image_tensor = torch.randn(size=(224, 224, 3))\n",
    "random_image_tensor.shape, random_image_tensor.dtype\n",
    "#example of tensor that can represent an image. Size of image 224x224, 3 color channels"
   ],
   "id": "c164c0c5d8bc45a3",
   "outputs": [
    {
     "data": {
      "text/plain": [
       "(torch.Size([224, 224, 3]), torch.float32)"
      ]
     },
     "execution_count": 14,
     "metadata": {},
     "output_type": "execute_result"
    }
   ],
   "execution_count": 14
  },
  {
   "metadata": {
    "ExecuteTime": {
     "end_time": "2025-03-31T16:32:04.305076Z",
     "start_time": "2025-03-31T16:32:04.301786Z"
    }
   },
   "cell_type": "code",
   "source": [
    "zeros = torch.zeros(size=(3, 4))\n",
    "zeros, zeros.dtype\n",
    "#creating a tensor filled with zeros only"
   ],
   "id": "e685b1c93c9c80e9",
   "outputs": [
    {
     "data": {
      "text/plain": [
       "(tensor([[0., 0., 0., 0.],\n",
       "         [0., 0., 0., 0.],\n",
       "         [0., 0., 0., 0.]]),\n",
       " torch.float32)"
      ]
     },
     "execution_count": 15,
     "metadata": {},
     "output_type": "execute_result"
    }
   ],
   "execution_count": 15
  },
  {
   "metadata": {
    "ExecuteTime": {
     "end_time": "2025-03-31T16:32:20.157319Z",
     "start_time": "2025-03-31T16:32:20.153353Z"
    }
   },
   "cell_type": "code",
   "source": [
    "ones = torch.ones(size=(3, 4))\n",
    "ones, ones.dtype\n",
    "#creating a tensor filled with ones only"
   ],
   "id": "53278a9e651db07a",
   "outputs": [
    {
     "data": {
      "text/plain": [
       "(tensor([[1., 1., 1., 1.],\n",
       "         [1., 1., 1., 1.],\n",
       "         [1., 1., 1., 1.]]),\n",
       " torch.float32)"
      ]
     },
     "execution_count": 16,
     "metadata": {},
     "output_type": "execute_result"
    }
   ],
   "execution_count": 16
  },
  {
   "metadata": {
    "ExecuteTime": {
     "end_time": "2025-03-31T16:33:05.341014Z",
     "start_time": "2025-03-31T16:33:05.337551Z"
    }
   },
   "cell_type": "code",
   "source": [
    "zero_to_ten = torch.arange(start=0, end=10, step=1)\n",
    "zero_to_ten\n",
    "#creating a tensor with the numbers ranged 0-9"
   ],
   "id": "6ea91cec78ac381a",
   "outputs": [
    {
     "data": {
      "text/plain": [
       "tensor([0, 1, 2, 3, 4, 5, 6, 7, 8, 9])"
      ]
     },
     "execution_count": 18,
     "metadata": {},
     "output_type": "execute_result"
    }
   ],
   "execution_count": 18
  },
  {
   "metadata": {
    "ExecuteTime": {
     "end_time": "2025-03-31T16:33:08.636728Z",
     "start_time": "2025-03-31T16:33:08.633506Z"
    }
   },
   "cell_type": "code",
   "source": [
    "ten_zeros = torch.zeros_like(input=zero_to_ten)\n",
    "ten_zeros\n",
    "#zeros_like() is used to create a tensor with the same shape as the one in \"input\" parameter, but filled with zeros"
   ],
   "id": "f3e8b59f62c8c924",
   "outputs": [
    {
     "data": {
      "text/plain": [
       "tensor([0, 0, 0, 0, 0, 0, 0, 0, 0, 0])"
      ]
     },
     "execution_count": 20,
     "metadata": {},
     "output_type": "execute_result"
    }
   ],
   "execution_count": 20
  },
  {
   "metadata": {
    "ExecuteTime": {
     "end_time": "2025-03-31T16:35:56.606959Z",
     "start_time": "2025-03-31T16:35:56.594935Z"
    }
   },
   "cell_type": "code",
   "source": [
    "float_32_tensor = torch.tensor([3.0, 6.0, 9.0],\n",
    "                               dtype=None,\n",
    "                               device=None,\n",
    "                               requires_grad=False)\n",
    "float_32_tensor.shape, float_32_tensor.dtype, float_32_tensor.device\n",
    "#creating a tensor with some specified parameters. To perform operations between tensors, they should have the same dtype, be stored on the same device and have appropriate shapes."
   ],
   "id": "2acba2a06bc2f077",
   "outputs": [
    {
     "data": {
      "text/plain": [
       "(torch.Size([3]), torch.float32, device(type='cpu'))"
      ]
     },
     "execution_count": 21,
     "metadata": {},
     "output_type": "execute_result"
    }
   ],
   "execution_count": 21
  },
  {
   "metadata": {
    "ExecuteTime": {
     "end_time": "2025-03-31T16:37:52.442067Z",
     "start_time": "2025-03-31T16:37:52.432883Z"
    }
   },
   "cell_type": "code",
   "source": [
    "float_16_tensor = torch.tensor([3.0, 6.0, 9.0],\n",
    "                               dtype=torch.float16)\n",
    "float_16_tensor.shape, float_16_tensor.dtype, float_16_tensor.device\n",
    "#specifiyng dtype for the tensor. The more precise the dtype is, the more effective the model will be able to perform (because it could represent more details in numbers)"
   ],
   "id": "764652a515a9826e",
   "outputs": [
    {
     "data": {
      "text/plain": [
       "(torch.Size([3]), torch.float16, device(type='cpu'))"
      ]
     },
     "execution_count": 22,
     "metadata": {},
     "output_type": "execute_result"
    }
   ],
   "execution_count": 22
  },
  {
   "metadata": {
    "ExecuteTime": {
     "end_time": "2025-03-30T15:43:21.959472Z",
     "start_time": "2025-03-30T15:43:21.951816Z"
    }
   },
   "cell_type": "code",
   "source": [
    "some_tensor = torch.randn(size=(3, 4))\n",
    "print(some_tensor)\n",
    "print(f\"Shape of tensor: {some_tensor.shape}\")\n",
    "print(f\"Datatype of tensor: {some_tensor.dtype}\")\n",
    "print(f\"Device tensor is stored on: {some_tensor.device}\")\n",
    "#printing out some essential information about the tensor."
   ],
   "id": "80187ee3f7434b08",
   "outputs": [
    {
     "name": "stdout",
     "output_type": "stream",
     "text": [
      "tensor([[-0.5791, -0.7918,  1.4436, -0.0924],\n",
      "        [ 0.5974,  0.0301,  0.8456, -1.4838],\n",
      "        [-0.6423,  0.6017, -0.9330,  0.1618]])\n",
      "Shape of tensor: torch.Size([3, 4])\n",
      "Datatype of tensor: torch.float32\n",
      "Device tensor is stored on: cpu\n"
     ]
    }
   ],
   "execution_count": 28
  },
  {
   "metadata": {
    "ExecuteTime": {
     "end_time": "2025-03-30T15:47:37.993276Z",
     "start_time": "2025-03-30T15:47:37.974835Z"
    }
   },
   "cell_type": "code",
   "source": [
    "tensor = torch.tensor([1, 2, 3])\n",
    "print(tensor + 10)\n",
    "print(tensor - 10)\n",
    "print(tensor * 10)\n",
    "tensor\n",
    "#tensor can be modified by these mathematical operations. They are calculated element-wise. The changes aren't saved for the tensor as long as it hasn't been reassigned"
   ],
   "id": "fc058b9f0147cd7d",
   "outputs": [
    {
     "name": "stdout",
     "output_type": "stream",
     "text": [
      "tensor([11, 12, 13])\n",
      "tensor([-9, -8, -7])\n",
      "tensor([10, 20, 30])\n"
     ]
    },
    {
     "data": {
      "text/plain": [
       "tensor([1, 2, 3])"
      ]
     },
     "execution_count": 33,
     "metadata": {},
     "output_type": "execute_result"
    }
   ],
   "execution_count": 33
  },
  {
   "metadata": {
    "ExecuteTime": {
     "end_time": "2025-03-31T16:41:54.287353Z",
     "start_time": "2025-03-31T16:41:54.281117Z"
    }
   },
   "cell_type": "code",
   "source": [
    "tensor -= 10\n",
    "tensor\n",
    "#subtraction with reassignment."
   ],
   "id": "ca428a758f4932c9",
   "outputs": [
    {
     "data": {
      "text/plain": [
       "tensor([1, 2, 3])"
      ]
     },
     "execution_count": 27,
     "metadata": {},
     "output_type": "execute_result"
    }
   ],
   "execution_count": 27
  },
  {
   "metadata": {
    "ExecuteTime": {
     "end_time": "2025-03-31T16:41:53.114278Z",
     "start_time": "2025-03-31T16:41:53.110299Z"
    }
   },
   "cell_type": "code",
   "source": [
    "tensor += 10\n",
    "tensor\n",
    "#adding with reassignment."
   ],
   "id": "aabcc7ece6ff08f1",
   "outputs": [
    {
     "data": {
      "text/plain": [
       "tensor([11, 12, 13])"
      ]
     },
     "execution_count": 26,
     "metadata": {},
     "output_type": "execute_result"
    }
   ],
   "execution_count": 26
  },
  {
   "metadata": {
    "ExecuteTime": {
     "end_time": "2025-03-31T16:41:52.229517Z",
     "start_time": "2025-03-31T16:41:52.221666Z"
    }
   },
   "cell_type": "code",
   "source": [
    "print(torch.multiply(tensor, 10))\n",
    "tensor\n",
    "#multiplication using built-in function"
   ],
   "id": "5bc4c83b215af0c8",
   "outputs": [
    {
     "name": "stdout",
     "output_type": "stream",
     "text": [
      "tensor([10, 20, 30])\n"
     ]
    },
    {
     "data": {
      "text/plain": [
       "tensor([1, 2, 3])"
      ]
     },
     "execution_count": 25,
     "metadata": {},
     "output_type": "execute_result"
    }
   ],
   "execution_count": 25
  },
  {
   "metadata": {
    "ExecuteTime": {
     "end_time": "2025-03-31T16:41:50.940992Z",
     "start_time": "2025-03-31T16:41:50.937230Z"
    }
   },
   "cell_type": "code",
   "source": [
    "print(tensor, \"*\", tensor)\n",
    "print(\"Equals:\", tensor * tensor)\n",
    "#element-wise multiplication"
   ],
   "id": "c663e919bd5489c1",
   "outputs": [
    {
     "name": "stdout",
     "output_type": "stream",
     "text": [
      "tensor([1, 2, 3]) * tensor([1, 2, 3])\n",
      "Equals: tensor([1, 4, 9])\n"
     ]
    }
   ],
   "execution_count": 24
  },
  {
   "metadata": {
    "ExecuteTime": {
     "end_time": "2025-03-31T16:41:48.731540Z",
     "start_time": "2025-03-31T16:41:48.726006Z"
    }
   },
   "cell_type": "code",
   "source": [
    "tensor = torch.tensor([1, 2, 3])\n",
    "tensor.shape\n",
    "#creating new tensor"
   ],
   "id": "a500b9440959191f",
   "outputs": [
    {
     "data": {
      "text/plain": [
       "torch.Size([3])"
      ]
     },
     "execution_count": 23,
     "metadata": {},
     "output_type": "execute_result"
    }
   ],
   "execution_count": 23
  },
  {
   "metadata": {
    "ExecuteTime": {
     "end_time": "2025-03-31T16:42:43.546297Z",
     "start_time": "2025-03-31T16:42:43.528580Z"
    }
   },
   "cell_type": "code",
   "source": [
    "print(tensor * tensor)\n",
    "print(torch.matmul(tensor, tensor))\n",
    "tensor @ tensor\n",
    "#matrix multiplication. One can perform it using torch.matmul() or sign \"@\""
   ],
   "id": "6448792ef276ad62",
   "outputs": [
    {
     "name": "stdout",
     "output_type": "stream",
     "text": [
      "tensor([1, 4, 9])\n",
      "tensor(14)\n"
     ]
    },
    {
     "data": {
      "text/plain": [
       "tensor(14)"
      ]
     },
     "execution_count": 28,
     "metadata": {},
     "output_type": "execute_result"
    }
   ],
   "execution_count": 28
  }
 ],
 "metadata": {
  "kernelspec": {
   "display_name": "Python 3",
   "language": "python",
   "name": "python3"
  },
  "language_info": {
   "codemirror_mode": {
    "name": "ipython",
    "version": 2
   },
   "file_extension": ".py",
   "mimetype": "text/x-python",
   "name": "python",
   "nbconvert_exporter": "python",
   "pygments_lexer": "ipython2",
   "version": "2.7.6"
  }
 },
 "nbformat": 4,
 "nbformat_minor": 5
}
